{
 "cells": [
  {
   "cell_type": "code",
   "execution_count": null,
   "metadata": {},
   "outputs": [],
   "source": [
    "# we can also use AUTOMATION\n",
    "import pyautogui\n",
    "pyautogui.moveTo(1185, 49)\n",
    "pyautogui.click()"
   ]
  },
  {
   "cell_type": "code",
   "execution_count": null,
   "metadata": {},
   "outputs": [],
   "source": [
    "# first we need to get the coordinates of the button we want to click\n",
    "# we can do that with the below code\n",
    "import pyautogui\n",
    "print(pyautogui.position())"
   ]
  }
 ],
 "metadata": {
  "language_info": {
   "name": "python"
  }
 },
 "nbformat": 4,
 "nbformat_minor": 2
}
