{
 "cells": [
  {
   "cell_type": "markdown",
   "metadata": {},
   "source": [
    "# Basics\n",
    "- What is programming?\n",
    "- Creating INSTRUCTIONS for COMPUTER to DO STUFF"
   ]
  },
  {
   "cell_type": "code",
   "execution_count": 2,
   "metadata": {},
   "outputs": [],
   "source": [
    "#variables - STORE DATA - there are different TYPES\n",
    "age = 25\n",
    "name = \"John\" #String\n",
    "height = 5.8 #Float"
   ]
  },
  {
   "cell_type": "code",
   "execution_count": 7,
   "metadata": {},
   "outputs": [
    {
     "name": "stdout",
     "output_type": "stream",
     "text": [
      "False\n",
      "True\n",
      "False\n",
      "True\n"
     ]
    }
   ],
   "source": [
    "# we can do OPERATIONS on varaiabales with OPERATORS\n",
    "# like + - * / % **\n",
    "sum = 5 + 5\n",
    "difference = 5 -  5\n",
    "product = 5 * 5\n",
    "quotient = 5 / 5\n",
    "remainder = 5 % 5\n",
    "power = 5 ** 5\n",
    "\n",
    "# we can also do COMPARISONS with COMPARISON OPERATORS\n",
    "# like == != > < >= <=\n",
    "a = 5\n",
    "b = 10\n",
    "c = 5\n",
    "print (a == b)\n",
    "print (a != b)\n",
    "print (a > b)\n",
    "print (a < b)\n"
   ]
  },
  {
   "cell_type": "code",
   "execution_count": 15,
   "metadata": {},
   "outputs": [
    {
     "name": "stdout",
     "output_type": "stream",
     "text": [
      "4\n"
     ]
    }
   ],
   "source": [
    "# explain, what is this?\n",
    "\n",
    "c = 10\n",
    "d = 6\n",
    "\n",
    "print(c%d)"
   ]
  },
  {
   "cell_type": "code",
   "execution_count": null,
   "metadata": {},
   "outputs": [],
   "source": [
    "# we can also do LOGICAL OPERATORS, some examples below:\n",
    "age = 15\n",
    "# AND - both conditions must be true, the code:\n",
    "if age > 18 and name == \"John\":\n",
    "    print(\"You are an adult named John\")\n",
    "\n",
    "# OR - one of the conditions must be true, the code:\n",
    "if age > 18 or name == \"John\":\n",
    "    print(\"You are either an adult or named John\")\n",
    "\n",
    "# NOT - the condition must be false, the code:\n",
    "if not age < 18:\n",
    "    print(\"You are not a minor\")\n"
   ]
  }
 ],
 "metadata": {
  "kernelspec": {
   "display_name": "Python 3",
   "language": "python",
   "name": "python3"
  },
  "language_info": {
   "codemirror_mode": {
    "name": "ipython",
    "version": 3
   },
   "file_extension": ".py",
   "mimetype": "text/x-python",
   "name": "python",
   "nbconvert_exporter": "python",
   "pygments_lexer": "ipython3",
   "version": "3.9.16"
  }
 },
 "nbformat": 4,
 "nbformat_minor": 2
}
