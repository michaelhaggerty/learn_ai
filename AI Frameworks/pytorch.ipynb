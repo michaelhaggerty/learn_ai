{
 "cells": [
  {
   "cell_type": "code",
   "execution_count": null,
   "metadata": {},
   "outputs": [],
   "source": []
  },
  {
   "cell_type": "markdown",
   "metadata": {},
   "source": [
    "# #1 How do you install Pytorch?"
   ]
  },
  {
   "cell_type": "code",
   "execution_count": 2,
   "metadata": {},
   "outputs": [
    {
     "name": "stdout",
     "output_type": "stream",
     "text": [
      "Requirement already satisfied: torch in /Users/michael/anaconda3/envs/ta-lib/lib/python3.9/site-packages (2.0.0)\n",
      "Requirement already satisfied: torchvision in /Users/michael/anaconda3/envs/ta-lib/lib/python3.9/site-packages (0.15.1)\n",
      "Collecting torchaudio\n",
      "  Downloading torchaudio-2.2.1-cp39-cp39-macosx_10_13_x86_64.whl (3.4 MB)\n",
      "\u001b[2K     \u001b[90m━━━━━━━━━━━━━━━━━━━━━━━━━━━━━━━━━━━━━━━━\u001b[0m \u001b[32m3.4/3.4 MB\u001b[0m \u001b[31m586.5 kB/s\u001b[0m eta \u001b[36m0:00:00\u001b[0m00:01\u001b[0m00:01\u001b[0m\n",
      "\u001b[?25hRequirement already satisfied: jinja2 in /Users/michael/anaconda3/envs/ta-lib/lib/python3.9/site-packages (from torch) (3.1.2)\n",
      "Requirement already satisfied: sympy in /Users/michael/anaconda3/envs/ta-lib/lib/python3.9/site-packages (from torch) (1.11.1)\n",
      "Requirement already satisfied: filelock in /Users/michael/anaconda3/envs/ta-lib/lib/python3.9/site-packages (from torch) (3.11.0)\n",
      "Requirement already satisfied: typing-extensions in /Users/michael/anaconda3/envs/ta-lib/lib/python3.9/site-packages (from torch) (4.9.0)\n",
      "Requirement already satisfied: networkx in /Users/michael/anaconda3/envs/ta-lib/lib/python3.9/site-packages (from torch) (3.1)\n",
      "Requirement already satisfied: pillow!=8.3.*,>=5.3.0 in /Users/michael/anaconda3/envs/ta-lib/lib/python3.9/site-packages (from torchvision) (9.5.0)\n",
      "Requirement already satisfied: numpy in /Users/michael/anaconda3/envs/ta-lib/lib/python3.9/site-packages (from torchvision) (1.23.5)\n",
      "Requirement already satisfied: requests in /Users/michael/anaconda3/envs/ta-lib/lib/python3.9/site-packages (from torchvision) (2.28.2)\n",
      "  Downloading torchaudio-2.2.0-cp39-cp39-macosx_10_13_x86_64.whl (3.4 MB)\n",
      "\u001b[2K     \u001b[90m━━━━━━━━━━━━━━━━━━━━━━━━━━━━━━━━━━━━━━━━\u001b[0m \u001b[32m3.4/3.4 MB\u001b[0m \u001b[31m590.8 kB/s\u001b[0m eta \u001b[36m0:00:00\u001b[0m00:01\u001b[0m00:01\u001b[0m\n",
      "\u001b[?25h  Downloading torchaudio-2.1.2-cp39-cp39-macosx_10_13_x86_64.whl (3.3 MB)\n",
      "\u001b[2K     \u001b[90m━━━━━━━━━━━━━━━━━━━━━━━━━━━━━━━━━━━━━━━━\u001b[0m \u001b[32m3.3/3.3 MB\u001b[0m \u001b[31m591.3 kB/s\u001b[0m eta \u001b[36m0:00:00\u001b[0m00:01\u001b[0m00:01\u001b[0m\n",
      "\u001b[?25h  Downloading torchaudio-2.1.1-cp39-cp39-macosx_10_13_x86_64.whl (3.3 MB)\n",
      "\u001b[2K     \u001b[90m━━━━━━━━━━━━━━━━━━━━━━━━━━━━━━━━━━━━━━━━\u001b[0m \u001b[32m3.3/3.3 MB\u001b[0m \u001b[31m445.1 kB/s\u001b[0m eta \u001b[36m0:00:00\u001b[0m00:01\u001b[0m00:01\u001b[0m\n",
      "\u001b[?25h  Downloading torchaudio-2.1.0-cp39-cp39-macosx_10_13_x86_64.whl (3.4 MB)\n",
      "\u001b[2K     \u001b[90m━━━━━━━━━━━━━━━━━━━━━━━━━━━━━━━━━━━━━━━━\u001b[0m \u001b[32m3.4/3.4 MB\u001b[0m \u001b[31m587.8 kB/s\u001b[0m eta \u001b[36m0:00:00\u001b[0m00:01\u001b[0m00:01\u001b[0m\n",
      "\u001b[?25h  Downloading torchaudio-2.0.2-cp39-cp39-macosx_10_9_x86_64.whl (3.9 MB)\n",
      "\u001b[2K     \u001b[90m━━━━━━━━━━━━━━━━━━━━━━━━━━━━━━━━━━━━━━━━\u001b[0m \u001b[32m3.9/3.9 MB\u001b[0m \u001b[31m589.5 kB/s\u001b[0m eta \u001b[36m0:00:00\u001b[0m00:01\u001b[0m00:01\u001b[0m\n",
      "\u001b[?25h  Downloading torchaudio-2.0.1-cp39-cp39-macosx_10_9_x86_64.whl (3.9 MB)\n",
      "\u001b[2K     \u001b[90m━━━━━━━━━━━━━━━━━━━━━━━━━━━━━━━━━━━━━━━━\u001b[0m \u001b[32m3.9/3.9 MB\u001b[0m \u001b[31m588.7 kB/s\u001b[0m eta \u001b[36m0:00:00\u001b[0m00:01\u001b[0m00:01\u001b[0m\n",
      "\u001b[?25hRequirement already satisfied: MarkupSafe>=2.0 in /Users/michael/anaconda3/envs/ta-lib/lib/python3.9/site-packages (from jinja2->torch) (2.1.2)\n",
      "Requirement already satisfied: certifi>=2017.4.17 in /Users/michael/anaconda3/envs/ta-lib/lib/python3.9/site-packages (from requests->torchvision) (2022.12.7)\n",
      "Requirement already satisfied: idna<4,>=2.5 in /Users/michael/anaconda3/envs/ta-lib/lib/python3.9/site-packages (from requests->torchvision) (2.10)\n",
      "Requirement already satisfied: urllib3<1.27,>=1.21.1 in /Users/michael/anaconda3/envs/ta-lib/lib/python3.9/site-packages (from requests->torchvision) (1.26.15)\n",
      "Requirement already satisfied: charset-normalizer<4,>=2 in /Users/michael/anaconda3/envs/ta-lib/lib/python3.9/site-packages (from requests->torchvision) (3.1.0)\n",
      "Requirement already satisfied: mpmath>=0.19 in /Users/michael/anaconda3/envs/ta-lib/lib/python3.9/site-packages (from sympy->torch) (1.3.0)\n",
      "Installing collected packages: torchaudio\n",
      "Successfully installed torchaudio-2.0.1\n"
     ]
    }
   ],
   "source": [
    "# To install PyTorch, run the following command in your terminal or command prompt:\n",
    "# Note: Make sure you have Python and pip already installed on your system.\n",
    "\n",
    "!pip install torch torchvision torchaudio"
   ]
  },
  {
   "cell_type": "markdown",
   "metadata": {},
   "source": [
    "# #2 How do you create a tensor in Pytorch?"
   ]
  },
  {
   "cell_type": "code",
   "execution_count": 16,
   "metadata": {},
   "outputs": [
    {
     "name": "stdout",
     "output_type": "stream",
     "text": [
      "tensor([[0., 0., 0.],\n",
      "        [0., 0., 0.],\n",
      "        [0., 0., 0.]]) \n",
      " tensor([[1., 1., 1.],\n",
      "        [1., 1., 1.],\n",
      "        [1., 1., 1.]])\n"
     ]
    }
   ],
   "source": [
    "import torch\n",
    "\n",
    "# Create a tensor of size 2x3 filled with zeros\n",
    "tensor1 = torch.zeros(3, 3)\n",
    "tensor2 = torch.ones(3, 3)\n",
    "print(tensor1, \"\\n\", tensor2)"
   ]
  },
  {
   "cell_type": "markdown",
   "metadata": {},
   "source": [
    "# 3. How do you perform matrix operations between two tensors?"
   ]
  },
  {
   "cell_type": "code",
   "execution_count": 20,
   "metadata": {},
   "outputs": [
    {
     "name": "stdout",
     "output_type": "stream",
     "text": [
      "Matrix multiplication result:\n",
      " tensor([[0.5480, 0.9859, 0.6883, 1.2514],\n",
      "        [0.8673, 1.4120, 1.0859, 1.2053]])\n",
      "Element-wise multiplication result:\n",
      " tensor([[0.0807, 0.3508],\n",
      "        [0.6726, 0.6393]])\n",
      "Matrix addition result:\n",
      " tensor([[0.5869, 1.3129, 1.9676],\n",
      "        [1.3626, 0.9158, 1.1420]])\n",
      "Matrix subtraction result:\n",
      " tensor([[ 0.0599, -0.3059,  0.0175],\n",
      "        [ 0.2590,  0.6141,  0.0719]])\n",
      "Dot product result:\n",
      " tensor(32)\n",
      "Batch matrix multiplication result:\n",
      " tensor([[[0.7888, 0.7791, 1.0238, 0.9735],\n",
      "         [1.0529, 0.3874, 1.2175, 1.1655]],\n",
      "\n",
      "        [[0.9051, 1.1730, 0.7145, 0.7950],\n",
      "         [1.2896, 1.6108, 0.9312, 0.9949]],\n",
      "\n",
      "        [[2.1174, 0.4315, 1.4166, 0.8035],\n",
      "         [0.7895, 0.0943, 0.6461, 0.3758]],\n",
      "\n",
      "        [[0.1659, 0.7418, 1.0728, 1.3686],\n",
      "         [0.1508, 0.5837, 0.7477, 0.8996]],\n",
      "\n",
      "        [[0.8932, 0.8423, 0.6900, 0.9548],\n",
      "         [1.0336, 0.9057, 0.7965, 1.0265]],\n",
      "\n",
      "        [[0.7020, 0.3873, 0.5396, 0.2477],\n",
      "         [1.2412, 0.9351, 0.6935, 0.8813]],\n",
      "\n",
      "        [[0.8778, 1.5825, 1.0687, 1.4389],\n",
      "         [0.1491, 0.3392, 0.1516, 0.4047]],\n",
      "\n",
      "        [[0.2582, 0.3065, 0.4833, 0.0645],\n",
      "         [0.5162, 0.6785, 1.2488, 0.0532]],\n",
      "\n",
      "        [[1.0400, 0.5298, 0.7829, 0.2856],\n",
      "         [1.4544, 0.9678, 1.0697, 0.3194]],\n",
      "\n",
      "        [[0.6004, 0.4176, 0.5228, 0.7978],\n",
      "         [0.6998, 0.9174, 0.3125, 0.7856]]])\n"
     ]
    }
   ],
   "source": [
    "import torch\n",
    "\n",
    "# Create two tensors\n",
    "tensor1 = torch.rand(2, 3)  # Random tensor of size 2x3\n",
    "tensor2 = torch.rand(3, 4)  # Random tensor of size 3x4"
   ]
  },
  {
   "cell_type": "code",
   "execution_count": null,
   "metadata": {},
   "outputs": [],
   "source": [
    "# Matrix multiplication\n",
    "result_mm = torch.mm(tensor1, tensor2)\n",
    "print(\"Matrix multiplication result:\\n\", result_mm)"
   ]
  },
  {
   "cell_type": "code",
   "execution_count": null,
   "metadata": {},
   "outputs": [],
   "source": [
    "# Element-wise multiplication\n",
    "result_mul = tensor1[:, :2] * tensor2[:2, :2]  # Shapes must match\n",
    "print(\"Element-wise multiplication result:\\n\", result_mul)"
   ]
  },
  {
   "cell_type": "code",
   "execution_count": null,
   "metadata": {},
   "outputs": [],
   "source": [
    "# Matrix addition\n",
    "tensor3 = torch.rand(2, 3)  # Tensor of size 2x3\n",
    "result_add = tensor1 + tensor3\n",
    "print(\"Matrix addition result:\\n\", result_add)"
   ]
  },
  {
   "cell_type": "code",
   "execution_count": null,
   "metadata": {},
   "outputs": [],
   "source": [
    "# Matrix subtraction\n",
    "result_sub = tensor1 - tensor3\n",
    "print(\"Matrix subtraction result:\\n\", result_sub)"
   ]
  },
  {
   "cell_type": "code",
   "execution_count": null,
   "metadata": {},
   "outputs": [],
   "source": [
    "# Dot product (for 1-D tensors)\n",
    "vec1 = torch.tensor([1, 2, 3])\n",
    "vec2 = torch.tensor([4, 5, 6])\n",
    "result_dot = torch.dot(vec1, vec2)\n",
    "print(\"Dot product result:\\n\", result_dot)"
   ]
  },
  {
   "cell_type": "code",
   "execution_count": null,
   "metadata": {},
   "outputs": [],
   "source": [
    "# Batch matrix multiplication\n",
    "tensor4 = torch.rand(10, 2, 3)  # Random batch of matrices of size 2x3\n",
    "tensor5 = torch.rand(10, 3, 4)  # Random batch of matrices of size 3x4\n",
    "result_bmm = torch.bmm(tensor4, tensor5)\n",
    "print(\"Batch matrix multiplication result:\\n\", result_bmm)"
   ]
  },
  {
   "cell_type": "markdown",
   "metadata": {},
   "source": [
    "# 4. How do you compute the gradient of a function in PyTorch?"
   ]
  },
  {
   "cell_type": "code",
   "execution_count": 21,
   "metadata": {},
   "outputs": [
    {
     "name": "stdout",
     "output_type": "stream",
     "text": [
      "tensor([4.])\n"
     ]
    }
   ],
   "source": [
    "# create tensor and set requires_grad\n",
    "\n",
    "x = torch.tensor([2.0], requires_grad=True)\n",
    "\n",
    "# define function\n",
    "y = x ** 2\n",
    "\n",
    "y.backward()\n",
    "\n",
    "print(x.grad)"
   ]
  },
  {
   "cell_type": "markdown",
   "metadata": {},
   "source": [
    "# 5. How do you use a GPU for tensor computations in PyTorch?"
   ]
  },
  {
   "cell_type": "code",
   "execution_count": 22,
   "metadata": {},
   "outputs": [
    {
     "name": "stdout",
     "output_type": "stream",
     "text": [
      "CUDA is not available. Running on CPU.\n"
     ]
    }
   ],
   "source": [
    "import torch\n",
    "\n",
    "# Check if CUDA (GPU support) is available\n",
    "if torch.cuda.is_available():\n",
    "    device = torch.device(\"cuda\")  # Use GPU\n",
    "    x = torch.tensor([1.0, 2.0]).to(device)  # Create a tensor and move it to GPU\n",
    "    print(x)\n",
    "else:\n",
    "    print(\"CUDA is not available. Running on CPU.\")\n"
   ]
  },
  {
   "cell_type": "markdown",
   "metadata": {},
   "source": [
    "#  6. How do you define a neural network model in PyTorch?"
   ]
  },
  {
   "cell_type": "code",
   "execution_count": null,
   "metadata": {},
   "outputs": [],
   "source": []
  },
  {
   "cell_type": "markdown",
   "metadata": {},
   "source": [
    "# 7. How do you train a model in PyTorch?"
   ]
  },
  {
   "cell_type": "code",
   "execution_count": null,
   "metadata": {},
   "outputs": [],
   "source": []
  },
  {
   "cell_type": "markdown",
   "metadata": {},
   "source": [
    "# 8. Example - MNIST"
   ]
  },
  {
   "cell_type": "code",
   "execution_count": 46,
   "metadata": {},
   "outputs": [
    {
     "name": "stderr",
     "output_type": "stream",
     "text": [
      "2648.49s - pydevd: Sending message related to process being replaced timed-out after 5 seconds\n"
     ]
    },
    {
     "name": "stdout",
     "output_type": "stream",
     "text": [
      "Requirement already satisfied: ipywidgets in /Users/michael/anaconda3/envs/ta-lib/lib/python3.9/site-packages (8.0.6)\n",
      "Requirement already satisfied: widgetsnbextension~=4.0.7 in /Users/michael/anaconda3/envs/ta-lib/lib/python3.9/site-packages (from ipywidgets) (4.0.7)\n",
      "Requirement already satisfied: jupyterlab-widgets~=3.0.7 in /Users/michael/anaconda3/envs/ta-lib/lib/python3.9/site-packages (from ipywidgets) (3.0.7)\n",
      "Requirement already satisfied: traitlets>=4.3.1 in /Users/michael/anaconda3/envs/ta-lib/lib/python3.9/site-packages (from ipywidgets) (5.9.0)\n",
      "Requirement already satisfied: ipykernel>=4.5.1 in /Users/michael/anaconda3/envs/ta-lib/lib/python3.9/site-packages (from ipywidgets) (6.22.0)\n",
      "Requirement already satisfied: ipython>=6.1.0 in /Users/michael/anaconda3/envs/ta-lib/lib/python3.9/site-packages (from ipywidgets) (8.12.0)\n",
      "Requirement already satisfied: matplotlib-inline>=0.1 in /Users/michael/anaconda3/envs/ta-lib/lib/python3.9/site-packages (from ipykernel>=4.5.1->ipywidgets) (0.1.6)\n",
      "Requirement already satisfied: nest-asyncio in /Users/michael/anaconda3/envs/ta-lib/lib/python3.9/site-packages (from ipykernel>=4.5.1->ipywidgets) (1.5.6)\n",
      "Requirement already satisfied: psutil in /Users/michael/anaconda3/envs/ta-lib/lib/python3.9/site-packages (from ipykernel>=4.5.1->ipywidgets) (5.9.4)\n",
      "Requirement already satisfied: comm>=0.1.1 in /Users/michael/anaconda3/envs/ta-lib/lib/python3.9/site-packages (from ipykernel>=4.5.1->ipywidgets) (0.1.3)\n",
      "Requirement already satisfied: tornado>=6.1 in /Users/michael/anaconda3/envs/ta-lib/lib/python3.9/site-packages (from ipykernel>=4.5.1->ipywidgets) (6.2)\n",
      "Requirement already satisfied: jupyter-client>=6.1.12 in /Users/michael/anaconda3/envs/ta-lib/lib/python3.9/site-packages (from ipykernel>=4.5.1->ipywidgets) (7.4.9)\n",
      "Requirement already satisfied: packaging in /Users/michael/anaconda3/envs/ta-lib/lib/python3.9/site-packages (from ipykernel>=4.5.1->ipywidgets) (23.0)\n",
      "Requirement already satisfied: jupyter-core!=5.0.*,>=4.12 in /Users/michael/anaconda3/envs/ta-lib/lib/python3.9/site-packages (from ipykernel>=4.5.1->ipywidgets) (5.3.0)\n",
      "Requirement already satisfied: appnope in /Users/michael/anaconda3/envs/ta-lib/lib/python3.9/site-packages (from ipykernel>=4.5.1->ipywidgets) (0.1.3)\n",
      "Requirement already satisfied: debugpy>=1.6.5 in /Users/michael/anaconda3/envs/ta-lib/lib/python3.9/site-packages (from ipykernel>=4.5.1->ipywidgets) (1.6.7)\n",
      "Requirement already satisfied: pyzmq>=20 in /Users/michael/anaconda3/envs/ta-lib/lib/python3.9/site-packages (from ipykernel>=4.5.1->ipywidgets) (23.2.0)\n",
      "Requirement already satisfied: backcall in /Users/michael/anaconda3/envs/ta-lib/lib/python3.9/site-packages (from ipython>=6.1.0->ipywidgets) (0.2.0)\n",
      "Requirement already satisfied: pickleshare in /Users/michael/anaconda3/envs/ta-lib/lib/python3.9/site-packages (from ipython>=6.1.0->ipywidgets) (0.7.5)\n",
      "Requirement already satisfied: decorator in /Users/michael/anaconda3/envs/ta-lib/lib/python3.9/site-packages (from ipython>=6.1.0->ipywidgets) (4.4.2)\n",
      "Requirement already satisfied: prompt-toolkit!=3.0.37,<3.1.0,>=3.0.30 in /Users/michael/anaconda3/envs/ta-lib/lib/python3.9/site-packages (from ipython>=6.1.0->ipywidgets) (3.0.38)\n",
      "Requirement already satisfied: jedi>=0.16 in /Users/michael/anaconda3/envs/ta-lib/lib/python3.9/site-packages (from ipython>=6.1.0->ipywidgets) (0.18.2)\n",
      "Requirement already satisfied: stack-data in /Users/michael/anaconda3/envs/ta-lib/lib/python3.9/site-packages (from ipython>=6.1.0->ipywidgets) (0.6.2)\n",
      "Requirement already satisfied: typing-extensions in /Users/michael/anaconda3/envs/ta-lib/lib/python3.9/site-packages (from ipython>=6.1.0->ipywidgets) (4.9.0)\n",
      "Requirement already satisfied: pexpect>4.3 in /Users/michael/anaconda3/envs/ta-lib/lib/python3.9/site-packages (from ipython>=6.1.0->ipywidgets) (4.8.0)\n",
      "Requirement already satisfied: pygments>=2.4.0 in /Users/michael/anaconda3/envs/ta-lib/lib/python3.9/site-packages (from ipython>=6.1.0->ipywidgets) (2.15.0)\n",
      "Requirement already satisfied: parso<0.9.0,>=0.8.0 in /Users/michael/anaconda3/envs/ta-lib/lib/python3.9/site-packages (from jedi>=0.16->ipython>=6.1.0->ipywidgets) (0.8.3)\n",
      "Requirement already satisfied: python-dateutil>=2.8.2 in /Users/michael/anaconda3/envs/ta-lib/lib/python3.9/site-packages (from jupyter-client>=6.1.12->ipykernel>=4.5.1->ipywidgets) (2.8.2)\n",
      "Requirement already satisfied: entrypoints in /Users/michael/anaconda3/envs/ta-lib/lib/python3.9/site-packages (from jupyter-client>=6.1.12->ipykernel>=4.5.1->ipywidgets) (0.4)\n",
      "Requirement already satisfied: platformdirs>=2.5 in /Users/michael/anaconda3/envs/ta-lib/lib/python3.9/site-packages (from jupyter-core!=5.0.*,>=4.12->ipykernel>=4.5.1->ipywidgets) (3.2.0)\n",
      "Requirement already satisfied: ptyprocess>=0.5 in /Users/michael/anaconda3/envs/ta-lib/lib/python3.9/site-packages (from pexpect>4.3->ipython>=6.1.0->ipywidgets) (0.7.0)\n",
      "Requirement already satisfied: wcwidth in /Users/michael/anaconda3/envs/ta-lib/lib/python3.9/site-packages (from prompt-toolkit!=3.0.37,<3.1.0,>=3.0.30->ipython>=6.1.0->ipywidgets) (0.2.6)\n",
      "Requirement already satisfied: asttokens>=2.1.0 in /Users/michael/anaconda3/envs/ta-lib/lib/python3.9/site-packages (from stack-data->ipython>=6.1.0->ipywidgets) (2.2.1)\n",
      "Requirement already satisfied: executing>=1.2.0 in /Users/michael/anaconda3/envs/ta-lib/lib/python3.9/site-packages (from stack-data->ipython>=6.1.0->ipywidgets) (1.2.0)\n",
      "Requirement already satisfied: pure-eval in /Users/michael/anaconda3/envs/ta-lib/lib/python3.9/site-packages (from stack-data->ipython>=6.1.0->ipywidgets) (0.2.2)\n",
      "Requirement already satisfied: six in /Users/michael/anaconda3/envs/ta-lib/lib/python3.9/site-packages (from asttokens>=2.1.0->stack-data->ipython>=6.1.0->ipywidgets) (1.16.0)\n"
     ]
    }
   ],
   "source": [
    "!pip install ipywidgets\n",
    "!pip install --upgrade jupyterlab ipywidgets\n",
    "!jupyter nbextension enable --py widgetsnbextension --sys-prefix"
   ]
  },
  {
   "cell_type": "code",
   "execution_count": 1,
   "metadata": {},
   "outputs": [],
   "source": [
    "import torch\n",
    "import torch.nn as nn\n",
    "import torch.nn.functional as F\n",
    "import torch.optim as optim\n",
    "from torchvision import datasets, transforms\n",
    "import matplotlib.pyplot as plt\n",
    "from IPython.display import display\n",
    "import ipywidgets as widgets\n",
    "from ipywidgets import interact, interact_manual"
   ]
  },
  {
   "cell_type": "code",
   "execution_count": 2,
   "metadata": {},
   "outputs": [],
   "source": [
    "class Net(nn.Module):\n",
    "    def __init__(self):\n",
    "        super(Net, self).__init__()\n",
    "        self.fc1 = nn.Linear(784, 128)\n",
    "        self.fc2 = nn.Linear(128, 10)\n",
    "\n",
    "    def forward(self, x):\n",
    "        x = F.relu(self.fc1(x))\n",
    "        x = self.fc2(x)\n",
    "        return x\n"
   ]
  },
  {
   "cell_type": "code",
   "execution_count": 3,
   "metadata": {},
   "outputs": [],
   "source": [
    "def load_data(batch_size=32):\n",
    "    transform = transforms.Compose([\n",
    "        transforms.ToTensor(),\n",
    "        transforms.Normalize((0.1307,), (0.3081,))\n",
    "    ])\n",
    "\n",
    "    train_dataset = datasets.MNIST('./data', train=True, download=True, transform=transform)\n",
    "    train_loader = torch.utils.data.DataLoader(train_dataset, batch_size=batch_size, shuffle=True)\n",
    "\n",
    "    test_dataset = datasets.MNIST('./data', train=False, transform=transform)\n",
    "    test_loader = torch.utils.data.DataLoader(test_dataset, batch_size=batch_size, shuffle=True)\n",
    "    \n",
    "    return train_loader, test_loader\n"
   ]
  },
  {
   "cell_type": "code",
   "execution_count": 4,
   "metadata": {},
   "outputs": [],
   "source": [
    "def train(model, device, train_loader, optimizer, epoch):\n",
    "    model.train()\n",
    "    for batch_idx, (data, target) in enumerate(train_loader):\n",
    "        data, target = data.to(device), target.to(device)\n",
    "        data = data.view(-1, 28 * 28)\n",
    "        optimizer.zero_grad()\n",
    "        output = model(data)\n",
    "        loss = F.cross_entropy(output, target)\n",
    "        loss.backward()\n",
    "        optimizer.step()"
   ]
  },
  {
   "cell_type": "code",
   "execution_count": 7,
   "metadata": {},
   "outputs": [
    {
     "data": {
      "application/vnd.jupyter.widget-view+json": {
       "model_id": "126a3d2c12d54cab96b322505f589a8e",
       "version_major": 2,
       "version_minor": 0
      },
      "text/plain": [
       "interactive(children=(FloatSlider(value=0.05, description='learning_rate', max=0.1, min=0.001, step=0.001), In…"
      ]
     },
     "metadata": {},
     "output_type": "display_data"
    }
   ],
   "source": [
    "@interact_manual\n",
    "def train_and_visualize(learning_rate=(0.001, 0.1, 0.001), epochs=(1, 10), batch_size=[32, 64, 128, 256]):\n",
    "    train_loader, test_loader = load_data(batch_size)\n",
    "    model = Net()\n",
    "    optimizer = optim.SGD(model.parameters(), lr=learning_rate, momentum=0.5)\n",
    "    for epoch in range(1, epochs + 1):\n",
    "        train(model, \"cpu\", train_loader, optimizer, epoch)\n",
    "    \n",
    "    # Visualization and performance statistics\n",
    "    correct_predictions = 0\n",
    "    total_predictions = 0\n",
    "    examples = enumerate(test_loader)\n",
    "    batch_idx, (example_data, example_targets) = next(examples)\n",
    "    \n",
    "    with torch.no_grad():\n",
    "        output = model(example_data.view(-1, 28 * 28))\n",
    "        # Get the index of the max log-probability (the predicted label)\n",
    "        pred = output.argmax(dim=1, keepdim=True)\n",
    "        correct_predictions += pred.eq(example_targets.view_as(pred)).sum().item()\n",
    "        total_predictions += example_data.shape[0]\n",
    "\n",
    "    # Calculate accuracy\n",
    "    accuracy = correct_predictions / total_predictions * 100\n",
    "    \n",
    "    # Adjust the figure size if necessary\n",
    "    fig = plt.figure(figsize=(15, 8))  # Adjusted for better display of 12 images\n",
    "    # Loop to display 12 examples\n",
    "    for i in range(12):\n",
    "        plt.subplot(3, 4, i+1)  # Adjusted for a 3x4 grid\n",
    "        plt.tight_layout()\n",
    "        plt.imshow(example_data[i][0], cmap='gray', interpolation='none')\n",
    "        plt.title(\"Prediction: {} (True: {})\".format(pred[i].item(), example_targets[i]))\n",
    "        plt.xticks([])\n",
    "        plt.yticks([])\n",
    "    \n",
    "    plt.show()\n",
    "    print(f\"Accuracy: {accuracy:.2f}%\")"
   ]
  },
  {
   "cell_type": "code",
   "execution_count": null,
   "metadata": {},
   "outputs": [],
   "source": []
  }
 ],
 "metadata": {
  "kernelspec": {
   "display_name": "ta-lib",
   "language": "python",
   "name": "python3"
  },
  "language_info": {
   "codemirror_mode": {
    "name": "ipython",
    "version": 3
   },
   "file_extension": ".py",
   "mimetype": "text/x-python",
   "name": "python",
   "nbconvert_exporter": "python",
   "pygments_lexer": "ipython3",
   "version": "3.9.16"
  }
 },
 "nbformat": 4,
 "nbformat_minor": 2
}
