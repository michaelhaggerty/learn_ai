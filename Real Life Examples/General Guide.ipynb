{
 "cells": [
  {
   "cell_type": "markdown",
   "metadata": {},
   "source": [
    "# 1. Understand the project\n",
    "\n",
    "First, take some time to plan out and do some high level thinking about the project - what's your ouput, what input do you need and what? \n",
    "Start with the end in mind.\n",
    "\n",
    "end - what are you trying to do?\n",
    "\n",
    "beginnig - what input do you need?\n",
    "\n",
    "middle - what are you actually going to do?\n",
    "\n",
    "note - sometimes, the cycle continues in a cycle, and we need to consider "
   ]
  },
  {
   "cell_type": "markdown",
   "metadata": {},
   "source": [
    "# Example - Housing Price Prediction\n",
    "End - we would like to predict the price of housing over some timeframe\n",
    "beginning - we would need some data that is causal to housig prices - look at existing work, do eda to test\n",
    "middle - figure out which toos we need to process the data to get the predictions"
   ]
  },
  {
   "cell_type": "code",
   "execution_count": null,
   "metadata": {},
   "outputs": [],
   "source": []
  }
 ],
 "metadata": {
  "language_info": {
   "name": "python"
  }
 },
 "nbformat": 4,
 "nbformat_minor": 2
}
