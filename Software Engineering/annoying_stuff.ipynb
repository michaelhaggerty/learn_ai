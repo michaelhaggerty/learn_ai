{
 "cells": [
  {
   "cell_type": "markdown",
   "metadata": {},
   "source": [
    "# 1. Dealing with time"
   ]
  },
  {
   "cell_type": "code",
   "execution_count": 1,
   "metadata": {},
   "outputs": [],
   "source": [
    "# time can be a real pain, make sure you take the time to make sure you get it right"
   ]
  },
  {
   "cell_type": "code",
   "execution_count": null,
   "metadata": {},
   "outputs": [],
   "source": []
  },
  {
   "cell_type": "markdown",
   "metadata": {},
   "source": [
    "# 2. Github access to private repos - you need to generate a token then use git clone and enter username and token for password"
   ]
  },
  {
   "cell_type": "code",
   "execution_count": null,
   "metadata": {},
   "outputs": [],
   "source": [
    "git clone \"url of repo\""
   ]
  },
  {
   "cell_type": "code",
   "execution_count": 1,
   "metadata": {},
   "outputs": [],
   "source": [
    "# if you want to be fancy, you can setup this stufff in enviromental variables\n",
    "from dotenv import load_dotenv\n",
    "import os\n",
    "\n",
    "# Load the environment variables from .env file\n",
    "load_dotenv()\n",
    "\n",
    "# Retrieve the GitHub PAT from the environment variable\n",
    "GITHUB_PAT = os.getenv('GITHUB_PAT')\n",
    "GITHUB_USER = os.getenv('GITHUB_USER')\n",
    "\n",
    "# Ensure you have your GitHub username and the repository URL\n",
    "repository_url = 'repo_url_here'\n",
    "\n",
    "# Modify the URL to include the PAT for authentication\n",
    "auth_url = repository_url.replace('https://', f'https://{GITHUB_USER}:{GITHUB_PAT}@')\n",
    "\n",
    "# Clone the repository using the authenticated URL\n",
    "!git clone {auth_url}\n"
   ]
  },
  {
   "cell_type": "markdown",
   "metadata": {},
   "source": []
  }
 ],
 "metadata": {
  "kernelspec": {
   "display_name": "ta-lib",
   "language": "python",
   "name": "python3"
  },
  "language_info": {
   "codemirror_mode": {
    "name": "ipython",
    "version": 3
   },
   "file_extension": ".py",
   "mimetype": "text/x-python",
   "name": "python",
   "nbconvert_exporter": "python",
   "pygments_lexer": "ipython3",
   "version": "3.9.16"
  }
 },
 "nbformat": 4,
 "nbformat_minor": 2
}
