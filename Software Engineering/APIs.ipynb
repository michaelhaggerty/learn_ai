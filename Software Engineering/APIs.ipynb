{
 "cells": [
  {
   "cell_type": "code",
   "execution_count": 1,
   "metadata": {},
   "outputs": [],
   "source": [
    "# API = Application Programming Interface\n",
    "# API is a thing that allows two software apps to communicate \n",
    "# How? with standard ways of doing things to they speak the same language\n",
    "\n",
    "#note you need to understand how to work with command line"
   ]
  },
  {
   "cell_type": "code",
   "execution_count": null,
   "metadata": {},
   "outputs": [],
   "source": [
    "!pip install flask"
   ]
  },
  {
   "cell_type": "markdown",
   "metadata": {},
   "source": [
    "# Toy Example"
   ]
  },
  {
   "cell_type": "code",
   "execution_count": 15,
   "metadata": {},
   "outputs": [
    {
     "name": "stdout",
     "output_type": "stream",
     "text": [
      " * Serving Flask app 'server'\n",
      " * Debug mode: on\n",
      "WARNING: This is a development server. Do not use it in a production deployment. Use a production WSGI server instead.\n",
      " * Running on http://127.0.0.1:5000\n",
      "Press CTRL+C to quit\n",
      " * Restarting with stat\n",
      " * Debugger is active!\n",
      " * Debugger PIN: 105-378-404\n",
      "Server should be running now.\n"
     ]
    }
   ],
   "source": [
    "import threading\n",
    "import subprocess\n",
    "import time\n",
    "\n",
    "def run_server():\n",
    "    # Use subprocess.Popen to run the server.py script non-blockingly\n",
    "    # and redirect output to stdout (so you can see it in the Jupyter notebook)\n",
    "    server_process = subprocess.Popen([\"python\", \"assets/server.py\"], stdout=subprocess.PIPE, stderr=subprocess.STDOUT, text=True)\n",
    "\n",
    "    # Print server output in real-time\n",
    "    for line in server_process.stdout:\n",
    "        print(line, end='')\n",
    "\n",
    "    # Wait for the server process to terminate\n",
    "    server_process.wait()\n",
    "\n",
    "# Function to stop the server gracefully\n",
    "def stop_server(server_thread, server_process):\n",
    "    if server_process:\n",
    "        server_process.terminate()  # or .kill() if .terminate() is not effective\n",
    "    server_thread.join()\n",
    "\n",
    "# Start the server as a background daemon thread\n",
    "server_thread = threading.Thread(target=run_server, daemon=True)\n",
    "server_thread.start()\n",
    "\n",
    "# Wait a bit for the server to start\n",
    "time.sleep(3)  # Adjust this sleep time as needed\n",
    "print(\"Server should be running now.\")\n",
    "\n",
    "# Example usage to stop the server, showing the principle (you need the server_process for this to work):\n",
    "# stop_server(server_thread, server_process)\n"
   ]
  },
  {
   "cell_type": "code",
   "execution_count": 16,
   "metadata": {},
   "outputs": [
    {
     "name": "stdout",
     "output_type": "stream",
     "text": [
      "Weather in New York: 5°C, Cloudy\n"
     ]
    }
   ],
   "source": [
    "import requests\n",
    "\n",
    "base_url = \"http://127.0.0.1:5000/weather/\"\n",
    "city = \"New York\"\n",
    "response = requests.get(base_url + city)\n",
    "\n",
    "if response.status_code == 200:\n",
    "    data = response.json()\n",
    "    # Assuming the city's weather data is nested under the city name\n",
    "    city_weather = data.get(city, {})  # Use .get to avoid KeyError if city is not found\n",
    "    temperature = city_weather.get('temperature', 'No temperature data')\n",
    "    condition = city_weather.get('condition', 'No condition data')\n",
    "    print(f\"Weather in {city}: {temperature}, {condition}\")\n",
    "else:\n",
    "    print(\"Failed to retrieve data.\")\n"
   ]
  },
  {
   "cell_type": "code",
   "execution_count": 31,
   "metadata": {},
   "outputs": [],
   "source": [
    "import requests\n",
    "\n",
    "# Base URL of the Flask server\n",
    "base_url = \"http://127.0.0.1:5000/weather\"\n",
    "\n",
    "# CREATE: Add a new city's weather data\n",
    "def create_weather(city, temperature, condition):\n",
    "    response = requests.post(base_url, json={\"city\": city, \"temperature\": temperature, \"condition\": condition})\n",
    "    if response.status_code == 201:\n",
    "        print(f\"Created weather data for {city}.\")\n",
    "    else:\n",
    "        print(f\"Failed to create data. Status code: {response.status_code}, Response: {response.text}\")\n",
    "\n",
    "\n",
    "# READ: Get weather data for a specific city\n",
    "def read_weather(city):\n",
    "    response = requests.get(base_url + city)\n",
    "    if response.status_code == 200:\n",
    "        data = response.json()\n",
    "        city_weather = data.get(city, {})\n",
    "        temperature = city_weather.get('temperature', 'No temperature data')\n",
    "        condition = city_weather.get('condition', 'No condition data')\n",
    "        print(f\"Weather in {city}: {temperature}, {condition}\")\n",
    "    else:\n",
    "        print(f\"Failed to retrieve data for {city}.\")\n",
    "\n",
    "# UPDATE: Update a city's weather data\n",
    "def update_weather(city, temperature=None, condition=None):\n",
    "    update_data = {}\n",
    "    if temperature:\n",
    "        update_data['temperature'] = temperature\n",
    "    if condition:\n",
    "        update_data['condition'] = condition\n",
    "    response = requests.put(base_url + city, json=update_data)\n",
    "    if response.status_code == 200:\n",
    "        print(f\"Updated weather data for {city}.\")\n",
    "    else:\n",
    "        print(f\"Failed to update data for {city}.\")\n",
    "\n",
    "# DELETE: Delete a city's weather data\n",
    "def delete_weather(city):\n",
    "    response = requests.delete(base_url + city)\n",
    "    if response.status_code == 200:\n",
    "        print(f\"Deleted weather data for {city}.\")\n",
    "    else:\n",
    "        print(f\"Failed to delete data for {city}.\")"
   ]
  },
  {
   "cell_type": "code",
   "execution_count": 34,
   "metadata": {},
   "outputs": [
    {
     "name": "stdout",
     "output_type": "stream",
     "text": [
      "Created weather data for Boston.\n"
     ]
    }
   ],
   "source": [
    "# Example usage of CRUD operations\n",
    "create_weather(\"Boston\", \"10°C\", \"Rainy\")"
   ]
  },
  {
   "cell_type": "code",
   "execution_count": 29,
   "metadata": {},
   "outputs": [
    {
     "name": "stdout",
     "output_type": "stream",
     "text": [
      "Failed to retrieve data for Boston.\n"
     ]
    }
   ],
   "source": [
    "read_weather(\"Boston\")"
   ]
  },
  {
   "cell_type": "code",
   "execution_count": 30,
   "metadata": {},
   "outputs": [
    {
     "name": "stdout",
     "output_type": "stream",
     "text": [
      "Failed to update data for Boston.\n"
     ]
    }
   ],
   "source": [
    "update_weather(\"Boston\", temperature=\"15°C\", condition=\"Sunny\")"
   ]
  },
  {
   "cell_type": "code",
   "execution_count": 33,
   "metadata": {},
   "outputs": [
    {
     "name": "stdout",
     "output_type": "stream",
     "text": [
      "Failed to retrieve data for Boston.\n"
     ]
    }
   ],
   "source": [
    "read_weather(\"Boston\")"
   ]
  },
  {
   "cell_type": "code",
   "execution_count": 32,
   "metadata": {},
   "outputs": [
    {
     "name": "stdout",
     "output_type": "stream",
     "text": [
      "Failed to delete data for Boston.\n"
     ]
    }
   ],
   "source": [
    "delete_weather(\"Boston\")"
   ]
  },
  {
   "cell_type": "markdown",
   "metadata": {},
   "source": [
    "# Real Life Example"
   ]
  },
  {
   "cell_type": "code",
   "execution_count": 2,
   "metadata": {},
   "outputs": [
    {
     "name": "stdout",
     "output_type": "stream",
     "text": [
      "Grid Point Info: OKX, 34, 38\n",
      "\n",
      "This Afternoon: A slight chance of rain showers after 5pm. Mostly sunny, with a high near 60. West wind around 13 mph, with gusts as high as 25 mph. Chance of precipitation is 20%.\n",
      "\n",
      "Tonight: A chance of rain showers before 5am. Mostly cloudy. Low around 46, with temperatures rising to around 49 overnight. West wind 3 to 9 mph. Chance of precipitation is 50%. New rainfall amounts less than a tenth of an inch possible.\n"
     ]
    }
   ],
   "source": [
    "import requests\n",
    "\n",
    "# Function to get the office ID and grid points for a given latitude and longitude\n",
    "def get_gridpoint(latitude, longitude):\n",
    "    url = f\"https://api.weather.gov/points/{latitude},{longitude}\"\n",
    "    response = requests.get(url)\n",
    "    response.raise_for_status()  # Raises an HTTPError if the response was an error\n",
    "    data = response.json()\n",
    "    return data['properties']['gridId'], data['properties']['gridX'], data['properties']['gridY']\n",
    "\n",
    "# Function to get the weather forecast using the office ID and grid points\n",
    "def get_forecast(gridId, gridX, gridY):\n",
    "    url = f\"https://api.weather.gov/gridpoints/{gridId}/{gridX},{gridY}/forecast\"\n",
    "    headers = {'User-Agent': 'Mozilla/5.0'}  # Some APIs require a user-agent header\n",
    "    response = requests.get(url, headers=headers)\n",
    "    response.raise_for_status()\n",
    "    data = response.json()\n",
    "    return data\n",
    "\n",
    "# Main program\n",
    "if __name__ == \"__main__\":\n",
    "    # Coordinates for Central Park, New York City\n",
    "    latitude = 40.78\n",
    "    longitude = -73.97\n",
    "\n",
    "    try:\n",
    "        # Get office ID and grid points\n",
    "        gridId, gridX, gridY = get_gridpoint(latitude, longitude)\n",
    "        print(f\"Grid Point Info: {gridId}, {gridX}, {gridY}\")\n",
    "\n",
    "        # Get forecast\n",
    "        forecast_data = get_forecast(gridId, gridX, gridY)\n",
    "        for period in forecast_data['properties']['periods'][:2]:  # Print the first 2 forecast periods\n",
    "            print(f\"\\n{period['name']}: {period['detailedForecast']}\")\n",
    "    except requests.HTTPError as e:\n",
    "        print(\"HTTP Error:\", e)\n",
    "    except Exception as e:\n",
    "        print(\"Error:\", e)\n"
   ]
  },
  {
   "cell_type": "code",
   "execution_count": null,
   "metadata": {},
   "outputs": [],
   "source": []
  }
 ],
 "metadata": {
  "kernelspec": {
   "display_name": "Python 3",
   "language": "python",
   "name": "python3"
  },
  "language_info": {
   "codemirror_mode": {
    "name": "ipython",
    "version": 3
   },
   "file_extension": ".py",
   "mimetype": "text/x-python",
   "name": "python",
   "nbconvert_exporter": "python",
   "pygments_lexer": "ipython3",
   "version": "3.9.7"
  }
 },
 "nbformat": 4,
 "nbformat_minor": 2
}
