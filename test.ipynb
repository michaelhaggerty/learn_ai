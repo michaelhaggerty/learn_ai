{
 "cells": [
  {
   "cell_type": "code",
   "execution_count": 1,
   "metadata": {},
   "outputs": [
    {
     "data": {
      "text/plain": [
       "'six three one seven seven six eight eight nine nine'"
      ]
     },
     "execution_count": 1,
     "metadata": {},
     "output_type": "execute_result"
    }
   ],
   "source": [
    "numbers = {\n",
    "    \"1\": \"one\",\n",
    "    \"2\": \"two\",\n",
    "    \"3\": \"three\",\n",
    "    \"4\": \"four\",\n",
    "    \"5\": \"five\",\n",
    "    \"6\": \"six\",\n",
    "    \"7\": \"seven\",\n",
    "    \"8\": \"eight\",\n",
    "    \"9\": \"nine\"\n",
    "    }\n",
    "\n",
    "phone_number = input(\"Phone: \")\n",
    "number_converted = ' '.join(numbers[digit] for digit in phone_number if digit.isdigit())\n",
    "\n",
    "number_converted"
   ]
  },
  {
   "cell_type": "code",
   "execution_count": null,
   "metadata": {},
   "outputs": [],
   "source": [
    "631-"
   ]
  },
  {
   "cell_type": "code",
   "execution_count": 6,
   "metadata": {},
   "outputs": [
    {
     "name": "stdout",
     "output_type": "stream",
     "text": [
      "                       Address  Shares  Price\n",
      "0           107 Oakwood Circle       2   9.18\n",
      "1               1120 9th Court       1   8.10\n",
      "2               124 Libby Lane       1   9.61\n",
      "3     137 Southern Shores Road       1   9.61\n",
      "4           1434 Shirley Drive       2  27.85\n",
      "5          2425 Cornell Circle       1  13.26\n",
      "6    340 17th Avenue Northwest       1   5.09\n",
      "7       4126 Oriely Drive West       1  11.96\n",
      "8       6107 Shadow Glen Court       1   8.52\n",
      "9       6820 66th Street South       1   7.79\n",
      "10        709 Georgetown Court       1  11.05\n",
      "11             8990 Doris Lane       2  10.28\n",
      "12    153 Spring Valley Circle       2  13.86\n",
      "13        2174 Scarbrough Road      12  80.04\n",
      "14           24 Ditmars Street       1  20.14\n",
      "15             303 Kellys Walk       1   9.44\n",
      "16  368 Irwin Street Northeast       3  13.02\n",
      "17         4085 Springvale Way       1   7.48\n",
      "18    6696 Mableton Parkway SE       5  16.39\n",
      "19           843 Tramore Drive      13  84.37\n",
      "20          8569 Creekwood Way       5  32.75\n",
      "21           8645 Embrey Drive       6  41.94\n",
      "22             8667 Ashley Way       2  10.14\n",
      "23             8678 Ashley Way       1   6.09\n",
      "24             8678 Ashley Way       1   6.09\n",
      "25             8679 Ashley Way       1   7.29\n",
      "26        8780 Churchill Place       1   6.64\n",
      "27       8796 Parliament Place       3  19.73\n",
      "28          9439 Lakeview Road       2  15.98\n"
     ]
    }
   ],
   "source": [
    "import pandas as pd\n",
    "\n",
    "# Define the initial data\n",
    "data = {\n",
    "    \"Address\": [\n",
    "        \"107 Oakwood Circle\", \"1120 9th Court\", \"124 Libby Lane\", \"137 Southern Shores Road\",\n",
    "        \"1434 Shirley Drive\", \"2425 Cornell Circle\", \"340 17th Avenue Northwest\",\n",
    "        \"4126 Oriely Drive West\", \"6107 Shadow Glen Court\", \"6820 66th Street South\",\n",
    "        \"709 Georgetown Court\", \"8990 Doris Lane\", \"153 Spring Valley Circle\",\n",
    "        \"2174 Scarbrough Road\", \"24 Ditmars Street\", \"303 Kellys Walk\",\n",
    "        \"368 Irwin Street Northeast\", \"4085 Springvale Way\", \"6696 Mableton Parkway SE\",\n",
    "        \"843 Tramore Drive\", \"8569 Creekwood Way\", \"8645 Embrey Drive\",\n",
    "        \"8667 Ashley Way\", \"8678 Ashley Way\", \"8678 Ashley Way\", \"8679 Ashley Way\",\n",
    "        \"8780 Churchill Place\", \"8796 Parliament Place\", \"9439 Lakeview Road\"\n",
    "    ],\n",
    "    \"Shares\": [\n",
    "        2, 1, 1, 1, 2, 1, 1, 1, 1, 1, 1, 2, 2, 12, 1, 1, 3, 1, 5, 13, 5, 6, 2, 1, 1, 1, 1, 3, 2\n",
    "    ],\n",
    "    \"Price\": [\n",
    "        9.18, 8.10, 9.61, 9.61, 27.85, 13.26, 5.09, 11.96, 8.52, 7.79, 11.05, 10.28,\n",
    "        13.86, 80.04, 20.14, 9.44, 13.02, 7.48, 16.39, 84.37, 32.75, 41.94, 10.14,\n",
    "        6.09, 6.09, 7.29, 6.64, 19.73, 15.98\n",
    "    ]\n",
    "}\n",
    "\n",
    "# Create the DataFrame\n",
    "df = pd.DataFrame(data)\n",
    "\n",
    "# Display the DataFrame\n",
    "print(df)\n",
    "\n",
    "# convert to excel\n",
    "\n",
    "df.to_excel('output.xlsx', index=False)\n",
    "\n"
   ]
  },
  {
   "cell_type": "code",
   "execution_count": 5,
   "metadata": {},
   "outputs": [],
   "source": [
    "import pandas as pd\n",
    "\n",
    "# Convert Jupyter notebook cell to Excel\n",
    "df = pd.DataFrame({'Column1': ['Cell contents']}) \n",
    "df.to_excel('output.xlsx', index=False)"
   ]
  },
  {
   "cell_type": "code",
   "execution_count": 4,
   "metadata": {},
   "outputs": [
    {
     "name": "stdout",
     "output_type": "stream",
     "text": [
      "Note: you may need to restart the kernel to use updated packages.\n"
     ]
    },
    {
     "name": "stderr",
     "output_type": "stream",
     "text": [
      "WARNING: Ignoring invalid distribution -ip (c:\\python39\\lib\\site-packages)\n",
      "WARNING: Ignoring invalid distribution - (c:\\python39\\lib\\site-packages)\n",
      "WARNING: Ignoring invalid distribution -ip (c:\\python39\\lib\\site-packages)\n",
      "WARNING: Ignoring invalid distribution - (c:\\python39\\lib\\site-packages)\n",
      "ERROR: Could not find a version that satisfies the requirement openpxyl (from versions: none)\n",
      "ERROR: No matching distribution found for openpxyl\n",
      "WARNING: Ignoring invalid distribution -ip (c:\\python39\\lib\\site-packages)\n",
      "WARNING: Ignoring invalid distribution - (c:\\python39\\lib\\site-packages)\n",
      "WARNING: Ignoring invalid distribution -ip (c:\\python39\\lib\\site-packages)\n",
      "WARNING: Ignoring invalid distribution - (c:\\python39\\lib\\site-packages)\n",
      "WARNING: Ignoring invalid distribution -ip (c:\\python39\\lib\\site-packages)\n",
      "WARNING: Ignoring invalid distribution - (c:\\python39\\lib\\site-packages)\n",
      "WARNING: You are using pip version 21.2.3; however, version 24.0 is available.\n",
      "You should consider upgrading via the 'c:\\Python39\\python.exe -m pip install --upgrade pip' command.\n"
     ]
    }
   ],
   "source": [
    "pip install openpxyl"
   ]
  }
 ],
 "metadata": {
  "kernelspec": {
   "display_name": "Python 3",
   "language": "python",
   "name": "python3"
  },
  "language_info": {
   "codemirror_mode": {
    "name": "ipython",
    "version": 3
   },
   "file_extension": ".py",
   "mimetype": "text/x-python",
   "name": "python",
   "nbconvert_exporter": "python",
   "pygments_lexer": "ipython3",
   "version": "3.9.7"
  }
 },
 "nbformat": 4,
 "nbformat_minor": 2
}
