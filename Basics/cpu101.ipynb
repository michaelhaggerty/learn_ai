{
 "cells": [
  {
   "cell_type": "code",
   "execution_count": 1,
   "metadata": {},
   "outputs": [
    {
     "name": "stdout",
     "output_type": "stream",
     "text": [
      "Requirement already satisfied: tensorflow in /Users/michael/anaconda3/envs/ta-lib/lib/python3.9/site-packages (2.12.0)\n",
      "Requirement already satisfied: wrapt<1.15,>=1.11.0 in /Users/michael/anaconda3/envs/ta-lib/lib/python3.9/site-packages (from tensorflow) (1.14.1)\n",
      "Requirement already satisfied: google-pasta>=0.1.1 in /Users/michael/anaconda3/envs/ta-lib/lib/python3.9/site-packages (from tensorflow) (0.2.0)\n",
      "Requirement already satisfied: grpcio<2.0,>=1.24.3 in /Users/michael/anaconda3/envs/ta-lib/lib/python3.9/site-packages (from tensorflow) (1.53.0)\n",
      "Requirement already satisfied: tensorflow-io-gcs-filesystem>=0.23.1 in /Users/michael/anaconda3/envs/ta-lib/lib/python3.9/site-packages (from tensorflow) (0.32.0)\n",
      "Requirement already satisfied: packaging in /Users/michael/anaconda3/envs/ta-lib/lib/python3.9/site-packages (from tensorflow) (23.0)\n",
      "Requirement already satisfied: absl-py>=1.0.0 in /Users/michael/anaconda3/envs/ta-lib/lib/python3.9/site-packages (from tensorflow) (1.4.0)\n",
      "Requirement already satisfied: flatbuffers>=2.0 in /Users/michael/anaconda3/envs/ta-lib/lib/python3.9/site-packages (from tensorflow) (23.3.3)\n",
      "Requirement already satisfied: protobuf!=4.21.0,!=4.21.1,!=4.21.2,!=4.21.3,!=4.21.4,!=4.21.5,<5.0.0dev,>=3.20.3 in /Users/michael/anaconda3/envs/ta-lib/lib/python3.9/site-packages (from tensorflow) (3.20.3)\n",
      "Requirement already satisfied: tensorboard<2.13,>=2.12 in /Users/michael/anaconda3/envs/ta-lib/lib/python3.9/site-packages (from tensorflow) (2.12.1)\n",
      "Requirement already satisfied: astunparse>=1.6.0 in /Users/michael/anaconda3/envs/ta-lib/lib/python3.9/site-packages (from tensorflow) (1.6.3)\n",
      "Requirement already satisfied: termcolor>=1.1.0 in /Users/michael/anaconda3/envs/ta-lib/lib/python3.9/site-packages (from tensorflow) (2.2.0)\n",
      "Requirement already satisfied: tensorflow-estimator<2.13,>=2.12.0 in /Users/michael/anaconda3/envs/ta-lib/lib/python3.9/site-packages (from tensorflow) (2.12.0)\n",
      "Requirement already satisfied: gast<=0.4.0,>=0.2.1 in /Users/michael/anaconda3/envs/ta-lib/lib/python3.9/site-packages (from tensorflow) (0.4.0)\n",
      "Requirement already satisfied: six>=1.12.0 in /Users/michael/anaconda3/envs/ta-lib/lib/python3.9/site-packages (from tensorflow) (1.16.0)\n",
      "Requirement already satisfied: typing-extensions>=3.6.6 in /Users/michael/anaconda3/envs/ta-lib/lib/python3.9/site-packages (from tensorflow) (4.9.0)\n",
      "Requirement already satisfied: setuptools in /Users/michael/anaconda3/envs/ta-lib/lib/python3.9/site-packages (from tensorflow) (65.6.3)\n",
      "Requirement already satisfied: opt-einsum>=2.3.2 in /Users/michael/anaconda3/envs/ta-lib/lib/python3.9/site-packages (from tensorflow) (3.3.0)\n",
      "Requirement already satisfied: h5py>=2.9.0 in /Users/michael/anaconda3/envs/ta-lib/lib/python3.9/site-packages (from tensorflow) (3.8.0)\n",
      "Requirement already satisfied: libclang>=13.0.0 in /Users/michael/anaconda3/envs/ta-lib/lib/python3.9/site-packages (from tensorflow) (16.0.0)\n",
      "Requirement already satisfied: keras<2.13,>=2.12.0 in /Users/michael/anaconda3/envs/ta-lib/lib/python3.9/site-packages (from tensorflow) (2.12.0)\n",
      "Requirement already satisfied: jax>=0.3.15 in /Users/michael/anaconda3/envs/ta-lib/lib/python3.9/site-packages (from tensorflow) (0.4.8)\n",
      "Requirement already satisfied: numpy<1.24,>=1.22 in /Users/michael/anaconda3/envs/ta-lib/lib/python3.9/site-packages (from tensorflow) (1.23.5)\n",
      "Requirement already satisfied: wheel<1.0,>=0.23.0 in /Users/michael/anaconda3/envs/ta-lib/lib/python3.9/site-packages (from astunparse>=1.6.0->tensorflow) (0.38.4)\n",
      "Requirement already satisfied: scipy>=1.7 in /Users/michael/anaconda3/envs/ta-lib/lib/python3.9/site-packages (from jax>=0.3.15->tensorflow) (1.9.3)\n",
      "Requirement already satisfied: ml-dtypes>=0.0.3 in /Users/michael/anaconda3/envs/ta-lib/lib/python3.9/site-packages (from jax>=0.3.15->tensorflow) (0.1.0)\n",
      "Requirement already satisfied: google-auth<3,>=1.6.3 in /Users/michael/anaconda3/envs/ta-lib/lib/python3.9/site-packages (from tensorboard<2.13,>=2.12->tensorflow) (2.17.3)\n",
      "Requirement already satisfied: tensorboard-plugin-wit>=1.6.0 in /Users/michael/anaconda3/envs/ta-lib/lib/python3.9/site-packages (from tensorboard<2.13,>=2.12->tensorflow) (1.8.1)\n",
      "Requirement already satisfied: markdown>=2.6.8 in /Users/michael/anaconda3/envs/ta-lib/lib/python3.9/site-packages (from tensorboard<2.13,>=2.12->tensorflow) (3.4.3)\n",
      "Requirement already satisfied: requests<3,>=2.21.0 in /Users/michael/anaconda3/envs/ta-lib/lib/python3.9/site-packages (from tensorboard<2.13,>=2.12->tensorflow) (2.28.2)\n",
      "Requirement already satisfied: tensorboard-data-server<0.8.0,>=0.7.0 in /Users/michael/anaconda3/envs/ta-lib/lib/python3.9/site-packages (from tensorboard<2.13,>=2.12->tensorflow) (0.7.0)\n",
      "Requirement already satisfied: google-auth-oauthlib<1.1,>=0.5 in /Users/michael/anaconda3/envs/ta-lib/lib/python3.9/site-packages (from tensorboard<2.13,>=2.12->tensorflow) (1.0.0)\n",
      "Requirement already satisfied: werkzeug>=1.0.1 in /Users/michael/anaconda3/envs/ta-lib/lib/python3.9/site-packages (from tensorboard<2.13,>=2.12->tensorflow) (3.0.1)\n",
      "Requirement already satisfied: pyasn1-modules>=0.2.1 in /Users/michael/anaconda3/envs/ta-lib/lib/python3.9/site-packages (from google-auth<3,>=1.6.3->tensorboard<2.13,>=2.12->tensorflow) (0.2.8)\n",
      "Requirement already satisfied: rsa<5,>=3.1.4 in /Users/michael/anaconda3/envs/ta-lib/lib/python3.9/site-packages (from google-auth<3,>=1.6.3->tensorboard<2.13,>=2.12->tensorflow) (4.9)\n",
      "Requirement already satisfied: cachetools<6.0,>=2.0.0 in /Users/michael/anaconda3/envs/ta-lib/lib/python3.9/site-packages (from google-auth<3,>=1.6.3->tensorboard<2.13,>=2.12->tensorflow) (5.3.0)\n",
      "Requirement already satisfied: requests-oauthlib>=0.7.0 in /Users/michael/anaconda3/envs/ta-lib/lib/python3.9/site-packages (from google-auth-oauthlib<1.1,>=0.5->tensorboard<2.13,>=2.12->tensorflow) (1.3.1)\n",
      "Requirement already satisfied: importlib-metadata>=4.4 in /Users/michael/anaconda3/envs/ta-lib/lib/python3.9/site-packages (from markdown>=2.6.8->tensorboard<2.13,>=2.12->tensorflow) (6.3.0)\n",
      "Requirement already satisfied: charset-normalizer<4,>=2 in /Users/michael/anaconda3/envs/ta-lib/lib/python3.9/site-packages (from requests<3,>=2.21.0->tensorboard<2.13,>=2.12->tensorflow) (3.1.0)\n",
      "Requirement already satisfied: urllib3<1.27,>=1.21.1 in /Users/michael/anaconda3/envs/ta-lib/lib/python3.9/site-packages (from requests<3,>=2.21.0->tensorboard<2.13,>=2.12->tensorflow) (1.26.15)\n",
      "Requirement already satisfied: certifi>=2017.4.17 in /Users/michael/anaconda3/envs/ta-lib/lib/python3.9/site-packages (from requests<3,>=2.21.0->tensorboard<2.13,>=2.12->tensorflow) (2022.12.7)\n",
      "Requirement already satisfied: idna<4,>=2.5 in /Users/michael/anaconda3/envs/ta-lib/lib/python3.9/site-packages (from requests<3,>=2.21.0->tensorboard<2.13,>=2.12->tensorflow) (2.10)\n",
      "Requirement already satisfied: MarkupSafe>=2.1.1 in /Users/michael/anaconda3/envs/ta-lib/lib/python3.9/site-packages (from werkzeug>=1.0.1->tensorboard<2.13,>=2.12->tensorflow) (2.1.2)\n",
      "Requirement already satisfied: zipp>=0.5 in /Users/michael/anaconda3/envs/ta-lib/lib/python3.9/site-packages (from importlib-metadata>=4.4->markdown>=2.6.8->tensorboard<2.13,>=2.12->tensorflow) (3.15.0)\n",
      "Requirement already satisfied: pyasn1<0.5.0,>=0.4.6 in /Users/michael/anaconda3/envs/ta-lib/lib/python3.9/site-packages (from pyasn1-modules>=0.2.1->google-auth<3,>=1.6.3->tensorboard<2.13,>=2.12->tensorflow) (0.4.8)\n",
      "Requirement already satisfied: oauthlib>=3.0.0 in /Users/michael/anaconda3/envs/ta-lib/lib/python3.9/site-packages (from requests-oauthlib>=0.7.0->google-auth-oauthlib<1.1,>=0.5->tensorboard<2.13,>=2.12->tensorflow) (3.2.2)\n"
     ]
    }
   ],
   "source": []
  },
  {
   "cell_type": "code",
   "execution_count": null,
   "metadata": {},
   "outputs": [],
   "source": []
  }
 ],
 "metadata": {
  "kernelspec": {
   "display_name": "ta-lib",
   "language": "python",
   "name": "python3"
  },
  "language_info": {
   "codemirror_mode": {
    "name": "ipython",
    "version": 3
   },
   "file_extension": ".py",
   "mimetype": "text/x-python",
   "name": "python",
   "nbconvert_exporter": "python",
   "pygments_lexer": "ipython3",
   "version": "3.9.16"
  }
 },
 "nbformat": 4,
 "nbformat_minor": 2
}
